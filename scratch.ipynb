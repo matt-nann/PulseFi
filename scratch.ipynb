{
 "cells": [
  {
   "cell_type": "code",
   "execution_count": 8,
   "metadata": {},
   "outputs": [],
   "source": [
    "import os\n",
    "from dotenv import load_dotenv\n",
    "\n",
    "FLASK_PORT = 8080\n",
    "CLOUD_URL = 'https://pulse-fi.herokuapp.com'\n",
    "\n",
    "load_dotenv()\n",
    "\n",
    "def getSecret(secret):\n",
    "    return os.environ.get(secret)\n",
    "\n",
    "def isRunningInCloud():\n",
    "    return os.environ.get('RUNNING') == 'cloud'\n",
    "\n",
    "def baseUrl():\n",
    "    if isRunningInCloud():\n",
    "        return CLOUD_URL\n",
    "    else:\n",
    "        return 'http://127.0.0.1:'+str(FLASK_PORT)\n",
    "    \n",
    "import requests\n",
    "\n",
    "url = baseUrl() + '/heartRate'\n",
    "response = requests.get(url)"
   ]
  },
  {
   "cell_type": "code",
   "execution_count": 9,
   "metadata": {},
   "outputs": [
    {
     "data": {
      "text/plain": [
       "'\\n\\n\\n<!DOCTYPE html>\\n<html lang=\"en\">\\n<head>\\n    <meta charset=\"UTF-8\">\\n    <meta name=\"viewport\" content=\"width=device-width, initial-scale=1, user-scalable=no\">\\n    <title>Login transfer</title>\\n    <link rel=\"stylesheet\" type=\"text/css\" href=\"https://gcs-assets.fitbit.com/prod/app.login.transferLoginState.0.css.dd75d2b055cd2da9b9534e2d7cb26c94.css\" charset=\"utf-8\"/>\\n\\n    <script src=\"https://accounts.fitbit.com/client.js\"></script>\\n\\n</head>\\n<body>\\n    <span id=\"pageLoadingScreen\" class=\"loading\"></span>\\n</body>\\n\\n<script>\\n    function postAjax(url, params, success, fail) {\\n        ajaxCall(\\'POST\\', url, params, success, fail)\\n    }\\n    function ajaxCall(method, url, params, success, fail) {\\n        var xhr = new XMLHttpRequest();\\n        xhr.open(method, url, true);\\n\\n        xhr.addEventListener(\"load\", function() {\\n            if (xhr.status !== 200) {\\n                fail(xhr.responseText);\\n            } else {\\n                success(xhr.responseText);\\n            }\\n        });\\n        xhr.addEventListener(\"error\", function() {\\n            fail();\\n        });\\n        xhr.setRequestHeader(\\'X-Requested-With\\', \\'XMLHttpRequest\\');\\n        xhr.setRequestHeader(\\'Content-Type\\', \\'application/x-www-form-urlencoded\\');\\n        xhr.send(params);\\n        return xhr;\\n    }\\n</script>\\n\\n<script>\\n    window.onload = function transfer() {\\n        if (window.Fitbit) {\\n            Fitbit.setLocale(\"en_US\");\\n            var host = document.location.protocol + \"//\" + document.location.host;\\n            if (document.location.port && host.indexOf(\":\") < 0) {\\n                host += \":\" + document.location.port;\\n            }\\n            var redirectParam = \\'https%3A%2F%2Fwww.fitbit.com%2Foauth2%2Fauthorize%3Fclient_id%3D23QVYP%26redirect_uri%3Dhttp%253A%252F%252F127.0.0.1%253A8080%252Fauthorize_fitbit%26response_type%3Dcode%26scope%3Dactivity%2Bnutrition%2Bheartrate%2Blocation%2Bnutrition%2Bprofile%2Bsettings%2Bsleep%2Bsocial%2Bweight%26state%3DcFiK2FYjLYMjzPrUBye05G6vNq4hzP\\';\\n            var redirect = redirectParam !== \\'\\' && redirectParam !== \\'null\\' ? redirectParam : host;\\n            var transferLocation = host + \"/login/transferpage?redirect=\" + encodeURIComponent(redirect);\\n\\n            var webView = \\'false\\' === \\'true\\';\\n            var isSignup = \\'false\\' === \\'true\\';\\n\\n            if(isSignup) {\\n                Fitbit.fbCreateAccount(true, transferLocation, false, webView);\\n            } else {\\n                var logoutURI = host + \"/logout/transferpage\";\\n                redirect = decodeURIComponent(redirect);\\n                Fitbit.fbIsUserAuthenticated(true, transferLocation, webView).then(function () {\\n                    Fitbit.fbGetCurrentAccessToken()\\n                        .then(function (stt) {\\n                            if (stt) {\\n                                var transferRequestURI = host + \"/login/transfer\";\\n                                var transferRequestParams = \"stt=\" + stt + \"&csrfToken=d517eb8616a74cfb853a3a9284717a1c\";\\n                                postAjax(transferRequestURI, transferRequestParams,\\n                                         function () {\\n                                             window.location = redirect;\\n                                         },\\n                                         function () {\\n                                             window.location = logoutURI;\\n                                         }\\n                                );\\n                            }\\n                        })\\n                        .catch(function(){\\n                            window.location = logoutURI;\\n                        });\\n                });\\n            }\\n        }\\n    }\\n</script>\\n\\n</html>'"
      ]
     },
     "execution_count": 9,
     "metadata": {},
     "output_type": "execute_result"
    }
   ],
   "source": [
    "response.text"
   ]
  }
 ],
 "metadata": {
  "kernelspec": {
   "display_name": "venv",
   "language": "python",
   "name": "python3"
  },
  "language_info": {
   "codemirror_mode": {
    "name": "ipython",
    "version": 3
   },
   "file_extension": ".py",
   "mimetype": "text/x-python",
   "name": "python",
   "nbconvert_exporter": "python",
   "pygments_lexer": "ipython3",
   "version": "3.8.13"
  },
  "orig_nbformat": 4
 },
 "nbformat": 4,
 "nbformat_minor": 2
}
