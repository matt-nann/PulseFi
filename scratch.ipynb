{
 "cells": [
  {
   "cell_type": "code",
   "execution_count": 4,
   "metadata": {},
   "outputs": [],
   "source": [
    "import os\n",
    "from dotenv import load_dotenv\n",
    "\n",
    "FLASK_PORT = 8080\n",
    "CLOUD_URL = 'https://pulse-fi.herokuapp.com'\n",
    "\n",
    "load_dotenv()\n",
    "\n",
    "def getSecret(secret):\n",
    "    return os.environ.get(secret)\n",
    "\n",
    "def isRunningInCloud():\n",
    "    return os.environ.get('RUNNING') == 'cloud'\n",
    "\n",
    "def baseUrl():\n",
    "    if isRunningInCloud():\n",
    "        return CLOUD_URL\n",
    "    else:\n",
    "        return 'http://127.0.0.1:'+str(FLASK_PORT)\n",
    "    \n",
    "import requests\n",
    "\n",
    "# url = baseUrl() + '/heartRate'\n",
    "# response = requests.get(url)"
   ]
  },
  {
   "cell_type": "code",
   "execution_count": 112,
   "metadata": {},
   "outputs": [
    {
     "ename": "ValueError",
     "evalue": "could not convert string to Timestamp",
     "output_type": "error",
     "traceback": [
      "\u001b[0;31m---------------------------------------------------------------------------\u001b[0m",
      "\u001b[0;31mParserError\u001b[0m                               Traceback (most recent call last)",
      "File \u001b[0;32m~/Documents/Code/PulseFi/venv/lib/python3.8/site-packages/pandas/_libs/tslibs/conversion.pyx:530\u001b[0m, in \u001b[0;36mpandas._libs.tslibs.conversion._convert_str_to_tsobject\u001b[0;34m()\u001b[0m\n",
      "File \u001b[0;32m~/Documents/Code/PulseFi/venv/lib/python3.8/site-packages/pandas/_libs/tslibs/parsing.pyx:318\u001b[0m, in \u001b[0;36mpandas._libs.tslibs.parsing.parse_datetime_string\u001b[0;34m()\u001b[0m\n",
      "File \u001b[0;32m~/Documents/Code/PulseFi/venv/lib/python3.8/site-packages/dateutil/parser/_parser.py:1368\u001b[0m, in \u001b[0;36mparse\u001b[0;34m(timestr, parserinfo, **kwargs)\u001b[0m\n\u001b[1;32m   1367\u001b[0m \u001b[39melse\u001b[39;00m:\n\u001b[0;32m-> 1368\u001b[0m     \u001b[39mreturn\u001b[39;00m DEFAULTPARSER\u001b[39m.\u001b[39;49mparse(timestr, \u001b[39m*\u001b[39;49m\u001b[39m*\u001b[39;49mkwargs)\n",
      "File \u001b[0;32m~/Documents/Code/PulseFi/venv/lib/python3.8/site-packages/dateutil/parser/_parser.py:643\u001b[0m, in \u001b[0;36mparser.parse\u001b[0;34m(self, timestr, default, ignoretz, tzinfos, **kwargs)\u001b[0m\n\u001b[1;32m    642\u001b[0m \u001b[39mif\u001b[39;00m res \u001b[39mis\u001b[39;00m \u001b[39mNone\u001b[39;00m:\n\u001b[0;32m--> 643\u001b[0m     \u001b[39mraise\u001b[39;00m ParserError(\u001b[39m\"\u001b[39m\u001b[39mUnknown string format: \u001b[39m\u001b[39m%s\u001b[39;00m\u001b[39m\"\u001b[39m, timestr)\n\u001b[1;32m    645\u001b[0m \u001b[39mif\u001b[39;00m \u001b[39mlen\u001b[39m(res) \u001b[39m==\u001b[39m \u001b[39m0\u001b[39m:\n",
      "\u001b[0;31mParserError\u001b[0m: Unknown string format: 2023-04-1423:59:59",
      "\nDuring handling of the above exception, another exception occurred:\n",
      "\u001b[0;31mValueError\u001b[0m                                Traceback (most recent call last)",
      "Cell \u001b[0;32mIn[112], line 6\u001b[0m\n\u001b[1;32m      4\u001b[0m date_list \u001b[39m=\u001b[39m []\n\u001b[1;32m      5\u001b[0m df_list \u001b[39m=\u001b[39m []\n\u001b[0;32m----> 6\u001b[0m allDates \u001b[39m=\u001b[39m pd\u001b[39m.\u001b[39;49mdate_range(start\u001b[39m=\u001b[39;49mstartTime, end \u001b[39m=\u001b[39;49m endTime)\n\u001b[1;32m      7\u001b[0m \u001b[39mprint\u001b[39m(datetime)\n\u001b[1;32m      8\u001b[0m \u001b[39mprint\u001b[39m(allDates)\n",
      "File \u001b[0;32m~/Documents/Code/PulseFi/venv/lib/python3.8/site-packages/pandas/core/indexes/datetimes.py:1125\u001b[0m, in \u001b[0;36mdate_range\u001b[0;34m(start, end, periods, freq, tz, normalize, name, closed, inclusive, **kwargs)\u001b[0m\n\u001b[1;32m   1122\u001b[0m \u001b[39mif\u001b[39;00m freq \u001b[39mis\u001b[39;00m \u001b[39mNone\u001b[39;00m \u001b[39mand\u001b[39;00m com\u001b[39m.\u001b[39many_none(periods, start, end):\n\u001b[1;32m   1123\u001b[0m     freq \u001b[39m=\u001b[39m \u001b[39m\"\u001b[39m\u001b[39mD\u001b[39m\u001b[39m\"\u001b[39m\n\u001b[0;32m-> 1125\u001b[0m dtarr \u001b[39m=\u001b[39m DatetimeArray\u001b[39m.\u001b[39;49m_generate_range(\n\u001b[1;32m   1126\u001b[0m     start\u001b[39m=\u001b[39;49mstart,\n\u001b[1;32m   1127\u001b[0m     end\u001b[39m=\u001b[39;49mend,\n\u001b[1;32m   1128\u001b[0m     periods\u001b[39m=\u001b[39;49mperiods,\n\u001b[1;32m   1129\u001b[0m     freq\u001b[39m=\u001b[39;49mfreq,\n\u001b[1;32m   1130\u001b[0m     tz\u001b[39m=\u001b[39;49mtz,\n\u001b[1;32m   1131\u001b[0m     normalize\u001b[39m=\u001b[39;49mnormalize,\n\u001b[1;32m   1132\u001b[0m     inclusive\u001b[39m=\u001b[39;49minclusive,\n\u001b[1;32m   1133\u001b[0m     \u001b[39m*\u001b[39;49m\u001b[39m*\u001b[39;49mkwargs,\n\u001b[1;32m   1134\u001b[0m )\n\u001b[1;32m   1135\u001b[0m \u001b[39mreturn\u001b[39;00m DatetimeIndex\u001b[39m.\u001b[39m_simple_new(dtarr, name\u001b[39m=\u001b[39mname)\n",
      "File \u001b[0;32m~/Documents/Code/PulseFi/venv/lib/python3.8/site-packages/pandas/core/arrays/datetimes.py:364\u001b[0m, in \u001b[0;36mDatetimeArray._generate_range\u001b[0;34m(cls, start, end, periods, freq, tz, normalize, ambiguous, nonexistent, inclusive)\u001b[0m\n\u001b[1;32m    361\u001b[0m     start \u001b[39m=\u001b[39m Timestamp(start)\n\u001b[1;32m    363\u001b[0m \u001b[39mif\u001b[39;00m end \u001b[39mis\u001b[39;00m \u001b[39mnot\u001b[39;00m \u001b[39mNone\u001b[39;00m:\n\u001b[0;32m--> 364\u001b[0m     end \u001b[39m=\u001b[39m Timestamp(end)\n\u001b[1;32m    366\u001b[0m \u001b[39mif\u001b[39;00m start \u001b[39mis\u001b[39;00m NaT \u001b[39mor\u001b[39;00m end \u001b[39mis\u001b[39;00m NaT:\n\u001b[1;32m    367\u001b[0m     \u001b[39mraise\u001b[39;00m \u001b[39mValueError\u001b[39;00m(\u001b[39m\"\u001b[39m\u001b[39mNeither `start` nor `end` can be NaT\u001b[39m\u001b[39m\"\u001b[39m)\n",
      "File \u001b[0;32m~/Documents/Code/PulseFi/venv/lib/python3.8/site-packages/pandas/_libs/tslibs/timestamps.pyx:1698\u001b[0m, in \u001b[0;36mpandas._libs.tslibs.timestamps.Timestamp.__new__\u001b[0;34m()\u001b[0m\n",
      "File \u001b[0;32m~/Documents/Code/PulseFi/venv/lib/python3.8/site-packages/pandas/_libs/tslibs/conversion.pyx:249\u001b[0m, in \u001b[0;36mpandas._libs.tslibs.conversion.convert_to_tsobject\u001b[0;34m()\u001b[0m\n",
      "File \u001b[0;32m~/Documents/Code/PulseFi/venv/lib/python3.8/site-packages/pandas/_libs/tslibs/conversion.pyx:533\u001b[0m, in \u001b[0;36mpandas._libs.tslibs.conversion._convert_str_to_tsobject\u001b[0;34m()\u001b[0m\n",
      "\u001b[0;31mValueError\u001b[0m: could not convert string to Timestamp"
     ]
    }
   ],
   "source": [
    "\n",
    "\n",
    "# create a datetime from this\n",
    "startTime = pd.to_datetime('2023-04-13 23:58:59')\n",
    "endTime = datetime.now().date().strftime(\"%Y-%m-%d\") + ' 23:59:59'\n",
    "date_list = []\n",
    "df_list = []\n",
    "allDates = pd.date_range(start=startTime, end = endTime)\n",
    "print(datetime)\n",
    "print(allDates)"
   ]
  },
  {
   "cell_type": "code",
   "execution_count": 103,
   "metadata": {},
   "outputs": [],
   "source": [
    "df = get_dataframe_from_query(\"SELECT * from users;\")\n",
    "conn = psycopg2.connect(\n",
    "    host=getSecret('SQL_Host'),\n",
    "    port=getSecret('SQL_Port'),\n",
    "    user=getSecret('SQL_User'),\n",
    "    password=getSecret('SQL_Password'),\n",
    "    database=getSecret('SQL_Database')\n",
    ")\n",
    "cur = conn.cursor()\n",
    "# create a cursor object to execute SQL commands\n",
    "cur = conn.cursor()\n",
    "\n",
    "# execute an SQL UPDATE statement to modify the username from \"mnann\" to \"guest\"\n",
    "cur.execute(\"UPDATE users SET username='guest' WHERE username='mnann'\")\n",
    "\n",
    "# commit the changes to the database\n",
    "conn.commit()\n",
    "\n",
    "# close the cursor and the connection\n",
    "cur.close()\n",
    "conn.close()\n"
   ]
  },
  {
   "cell_type": "code",
   "execution_count": 98,
   "metadata": {},
   "outputs": [],
   "source": [
    "import sys \n",
    "import os\n",
    "sys.path.append('../..')\n",
    "from src import getSecret\n",
    "from src.sql import get_dataframe_from_query, db_connection\n",
    "\n",
    "df = get_dataframe_from_query(\"SELECT music_history.*, songs.* FROM music_history JOIN songs ON music_history.song_id = songs.song_id WHERE user_id = {}\".format(1))\n",
    "temp =df['song_id'].iloc[:,0]\n",
    "df = df.drop(columns=['song_id'])\n",
    "df.insert(0, 'song_id', temp)\n",
    "# display(df)\n",
    "# df['song_id'].unique()\n",
    "\n",
    "with db_connection() as conn:\n",
    "    cur = conn.cursor()\n",
    "    cur.execute(\"delete from heart_rate where user_id = 1\")\n",
    "    conn.commit()\n"
   ]
  },
  {
   "cell_type": "code",
   "execution_count": 73,
   "metadata": {},
   "outputs": [
    {
     "name": "stdout",
     "output_type": "stream",
     "text": [
      "('users',)\n"
     ]
    },
    {
     "ename": "ProgrammingError",
     "evalue": "no results to fetch",
     "output_type": "error",
     "traceback": [
      "\u001b[0;31m---------------------------------------------------------------------------\u001b[0m",
      "\u001b[0;31mProgrammingError\u001b[0m                          Traceback (most recent call last)",
      "Cell \u001b[0;32mIn[73], line 17\u001b[0m\n\u001b[1;32m     15\u001b[0m cur\u001b[39m.\u001b[39mexecute(\u001b[39m\"\u001b[39m\u001b[39mSELECT COUNT(*) FROM users\u001b[39m\u001b[39m\"\u001b[39m)\n\u001b[1;32m     16\u001b[0m cur\u001b[39m.\u001b[39mexecute(\u001b[39m\"\u001b[39m\u001b[39mDelete from users\u001b[39m\u001b[39m\"\u001b[39m)\n\u001b[0;32m---> 17\u001b[0m count \u001b[39m=\u001b[39m cur\u001b[39m.\u001b[39;49mfetchone()[\u001b[39m0\u001b[39m]\n\u001b[1;32m     18\u001b[0m \u001b[39mprint\u001b[39m(\u001b[39m\"\u001b[39m\u001b[39mNumber of records in users table:\u001b[39m\u001b[39m\"\u001b[39m, count)\n\u001b[1;32m     20\u001b[0m \u001b[39m# # list all tables\u001b[39;00m\n\u001b[1;32m     21\u001b[0m \u001b[39m# cur.execute(\"SELECT table_name FROM information_schema.tables WHERE table_schema = 'public'\")\u001b[39;00m\n\u001b[1;32m     22\u001b[0m \u001b[39m# rows = cur.fetchall()\u001b[39;00m\n\u001b[0;32m   (...)\u001b[0m\n\u001b[1;32m     32\u001b[0m \u001b[39m# # cur.close()\u001b[39;00m\n\u001b[1;32m     33\u001b[0m \u001b[39m# # conn.close()\u001b[39;00m\n",
      "\u001b[0;31mProgrammingError\u001b[0m: no results to fetch"
     ]
    }
   ],
   "source": [
    "import psycopg2\n",
    "conn = psycopg2.connect(\n",
    "    host=getSecret('SQL_Host'),\n",
    "    port=getSecret('SQL_Port'),\n",
    "    user=getSecret('SQL_User'),\n",
    "    password=getSecret('SQL_Password'),\n",
    "    database=getSecret('SQL_Database')\n",
    ")\n",
    "cur = conn.cursor()\n",
    "cur.execute(\"SELECT table_name FROM information_schema.tables WHERE table_name = 'users';\")\n",
    "rows = cur.fetchall()\n",
    "for row in rows:\n",
    "    print(row)\n",
    "\n",
    "cur.execute(\"SELECT COUNT(*) FROM users\")\n",
    "# cur.execute(\"Delete from users\")\n",
    "count = cur.fetchone()[0]\n",
    "print(\"Number of records in users table:\", count)\n",
    "\n",
    "# # list all tables\n",
    "# cur.execute(\"SELECT table_name FROM information_schema.tables WHERE table_schema = 'public'\")\n",
    "# rows = cur.fetchall()\n",
    "# for row in rows:\n",
    "#     print(row)\n",
    "\n",
    "# # fix the query\n",
    "# cur.execute(\"SELECT * FROM users\")\n",
    "# rows = cur.fetchall()\n",
    "# for row in rows:\n",
    "#     print(row)\n",
    "\n",
    "# # cur.close()\n",
    "# # conn.close()"
   ]
  },
  {
   "cell_type": "code",
   "execution_count": 58,
   "metadata": {},
   "outputs": [],
   "source": [
    "import sys\n",
    "import os\n",
    "sys.path.append(\"..\")\n",
    "import pandas as pd\n",
    "\n",
    "df_heartRate = pd.read_pickle('data/df_heartRate_2023_04_02_to_2023_04_11.pkl')\n",
    "df_heartRate['datetime'] = pd.to_datetime(df_heartRate['date']) + pd.to_timedelta(df_heartRate['time'])\n",
    "df_heartRate.rename(columns={'value':'bpm'}, inplace=True)"
   ]
  },
  {
   "cell_type": "code",
   "execution_count": 78,
   "metadata": {},
   "outputs": [
    {
     "data": {
      "text/html": [
       "<div>\n",
       "<style scoped>\n",
       "    .dataframe tbody tr th:only-of-type {\n",
       "        vertical-align: middle;\n",
       "    }\n",
       "\n",
       "    .dataframe tbody tr th {\n",
       "        vertical-align: top;\n",
       "    }\n",
       "\n",
       "    .dataframe thead th {\n",
       "        text-align: right;\n",
       "    }\n",
       "</style>\n",
       "<table border=\"1\" class=\"dataframe\">\n",
       "  <thead>\n",
       "    <tr style=\"text-align: right;\">\n",
       "      <th></th>\n",
       "    </tr>\n",
       "  </thead>\n",
       "  <tbody>\n",
       "  </tbody>\n",
       "</table>\n",
       "</div>"
      ],
      "text/plain": [
       "Empty DataFrame\n",
       "Columns: []\n",
       "Index: []"
      ]
     },
     "metadata": {},
     "output_type": "display_data"
    }
   ],
   "source": [
    "df_heartRate\n",
    "\n",
    "import psycopg2\n",
    "\n",
    "# connect to the database\n",
    "conn = psycopg2.connect(\n",
    "    host=getSecret('SQL_Host'),\n",
    "    port=getSecret('SQL_Port'),\n",
    "    user=getSecret('SQL_User'),\n",
    "    password=getSecret('SQL_Password'),\n",
    "    database=getSecret('SQL_Database')\n",
    ")\n",
    "\n",
    "# create a cursor object\n",
    "cur = conn.cursor()\n",
    "\n",
    "\n",
    "\n",
    "# execute a query to select all rows from the \"Users\" table\n",
    "# cur.execute(\"SELECT * FROM public.Users\")\n",
    "# cur.execute(\"SELECT table_schema, table_name FROM information_schema.tables WHERE table_name = 'Users';\")\n",
    "# cur.execute(\"SET search_path TO public; SELECT * FROM Users\")\n",
    "# cur.execute('SELECT * FROM public.users;')\n",
    "\n",
    "# for index, row in df_heartRate.iterrows():\n",
    "#     cur.execute(\"INSERT INTO public.heart_rate (user_id, bpm, datetime) VALUES (%s, %s, %s)\", (1, row['bpm'], row['datetime']))\n",
    "#     conn.commit()\n",
    "\n",
    "# cur.execute('SELECT * FROM public.heart_rate;')\n",
    "# # fetch all rows and print them\n",
    "# import pandas as pd\n",
    "# df = pd.DataFrame(cur.fetchall())\n",
    "# df.columns = [desc[0] for desc in cur.description]\n",
    "# display(df)\n",
    "# cur.execute(\"SELECT music_history.*, songs.* FROM music_history JOIN songs ON music_history.song_id = songs.song_id WHERE user_id = {};\".format(1))\n",
    "cur.execute(\"SELECT * FROM public.heart_rate;\")\n",
    "# commit\n",
    "display(pd.DataFrame(cur.fetchall()))\n",
    "# for row in cur.fetchall():\n",
    "#     print(row)\n",
    "# conn.commit()\n",
    "\n",
    "# df_heartRate = pd.read_sql_query('select * from heartrate where user_id = ' + str(1), con=self.db.engine)\n",
    "# cur.execute('SELECT * FROM public.music_history;')\n",
    "# delete \n",
    "\n",
    "# cur.execute('SELECT * FROM public.heart_rate;')\n",
    "# fetch all rows and print them\n",
    "# rows = cur.fetchall()\n",
    "# for row in rows:\n",
    "#     print(row)\n",
    "\n",
    "# close the cursor and database connection\n",
    "cur.close()\n",
    "conn.close()"
   ]
  },
  {
   "cell_type": "code",
   "execution_count": null,
   "metadata": {},
   "outputs": [],
   "source": []
  },
  {
   "cell_type": "code",
   "execution_count": 27,
   "metadata": {},
   "outputs": [
    {
     "ename": "InFailedSqlTransaction",
     "evalue": "current transaction is aborted, commands ignored until end of transaction block\n",
     "output_type": "error",
     "traceback": [
      "\u001b[0;31m---------------------------------------------------------------------------\u001b[0m",
      "\u001b[0;31mInFailedSqlTransaction\u001b[0m                    Traceback (most recent call last)",
      "Cell \u001b[0;32mIn[27], line 1\u001b[0m\n\u001b[0;32m----> 1\u001b[0m cur\u001b[39m.\u001b[39;49mexecute(\u001b[39m\"\u001b[39;49m\u001b[39mSELECT table_name FROM information_schema.tables WHERE table_name = \u001b[39;49m\u001b[39m'\u001b[39;49m\u001b[39musers\u001b[39;49m\u001b[39m'\u001b[39;49m\u001b[39m;\u001b[39;49m\u001b[39m\"\u001b[39;49m)\n\u001b[1;32m      2\u001b[0m rows \u001b[39m=\u001b[39m cur\u001b[39m.\u001b[39mfetchall()\n",
      "\u001b[0;31mInFailedSqlTransaction\u001b[0m: current transaction is aborted, commands ignored until end of transaction block\n"
     ]
    }
   ],
   "source": [
    "cur.execute(\"SELECT table_name FROM information_schema.tables WHERE table_name = 'users';\")\n",
    "rows = cur.fetchall()"
   ]
  },
  {
   "cell_type": "code",
   "execution_count": 21,
   "metadata": {},
   "outputs": [],
   "source": [
    "import os\n",
    "from src import getSecret, isRunningInCloud\n",
    "# Grabs the folder where the script runs.\n",
    "\n",
    "DEBUG = True\n",
    "# Secret key for session management. You can generate random strings here: https://randomkeygen.com/\n",
    "SECRET_KEY = \"o'lEd~n48G[3&@XVF2*]u1`VPF7P%I%,:OA@wuI`.5|%$4neB>h{q=S1N<R5AKL\"\n",
    "\n",
    "if isRunningInCloud():\n",
    "    SQLALCHEMY_DATABASE_URI = os.environ['DATABASE_URL']\n",
    "else:\n",
    "    SQL_username = str(getSecret('SQL_User'))\n",
    "    SQL_password = str(getSecret('SQL_Password'))\n",
    "    SQL_host = str(getSecret('SQL_Host'))\n",
    "    SQL_port = str(getSecret('SQL_Port'))\n",
    "    SQL_database = str(getSecret('SQL_Database'))\n",
    "    # Connect to the database\n",
    "    SQLALCHEMY_DATABASE_URI = 'postgresql://' + SQL_username + ':' + SQL_password + '@' + SQL_host + ':' + SQL_port + '/' + SQL_database\n",
    "    # 'sqlite:///' + os.path.join(basedir, 'database.db')\n",
    "\n",
    "    # # Secret key for session management. You can generate random strings here:\n",
    "    # # https://randomkeygen.com/\n",
    "    # SECRET_KEY = \"o'lEd~n48G[3&@XVF2*]u1`VPF7P%I%,:OA@wuI`.5|%$4neB>h{q=S1N<R5AKL\"\n",
    "    # # Connect to the database\n",
    "    # SQLALCHEMY_DATABASE_URI = 'sqlite:///' + os.path.join(basedir, 'database.db')\n"
   ]
  }
 ],
 "metadata": {
  "kernelspec": {
   "display_name": "venv",
   "language": "python",
   "name": "python3"
  },
  "language_info": {
   "codemirror_mode": {
    "name": "ipython",
    "version": 3
   },
   "file_extension": ".py",
   "mimetype": "text/x-python",
   "name": "python",
   "nbconvert_exporter": "python",
   "pygments_lexer": "ipython3",
   "version": "3.8.13"
  },
  "orig_nbformat": 4
 },
 "nbformat": 4,
 "nbformat_minor": 2
}
