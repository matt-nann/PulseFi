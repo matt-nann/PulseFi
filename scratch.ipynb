{
 "cells": [
  {
   "cell_type": "code",
   "execution_count": 4,
   "metadata": {},
   "outputs": [],
   "source": [
    "import os\n",
    "from dotenv import load_dotenv\n",
    "\n",
    "FLASK_PORT = 8080\n",
    "CLOUD_URL = 'https://pulse-fi.herokuapp.com'\n",
    "\n",
    "load_dotenv()\n",
    "\n",
    "def getSecret(secret):\n",
    "    return os.environ.get(secret)\n",
    "\n",
    "def isRunningInCloud():\n",
    "    return os.environ.get('RUNNING') == 'cloud'\n",
    "\n",
    "def baseUrl():\n",
    "    if isRunningInCloud():\n",
    "        return CLOUD_URL\n",
    "    else:\n",
    "        return 'http://127.0.0.1:'+str(FLASK_PORT)\n",
    "    \n",
    "import requests\n",
    "\n",
    "# url = baseUrl() + '/heartRate'\n",
    "# response = requests.get(url)"
   ]
  },
  {
   "cell_type": "code",
   "execution_count": 134,
   "metadata": {},
   "outputs": [
    {
     "data": {
      "text/plain": [
       "{'external_urls': {'spotify': 'https://open.spotify.com/artist/05YVYeV4HxYp5rrWalvuE1'},\n",
       " 'href': 'https://api.spotify.com/v1/artists/05YVYeV4HxYp5rrWalvuE1',\n",
       " 'id': '05YVYeV4HxYp5rrWalvuE1',\n",
       " 'name': 'Grover Washington, Jr.',\n",
       " 'type': 'artist',\n",
       " 'uri': 'spotify:artist:05YVYeV4HxYp5rrWalvuE1'}"
      ]
     },
     "execution_count": 134,
     "metadata": {},
     "output_type": "execute_result"
    }
   ],
   "source": [
    "now_playing_data['item']['artists'][0]\n"
   ]
  },
  {
   "cell_type": "code",
   "execution_count": 139,
   "metadata": {},
   "outputs": [
    {
     "data": {
      "text/plain": [
       "'Just the Two of Us (feat. Bill Withers)'"
      ]
     },
     "execution_count": 139,
     "metadata": {},
     "output_type": "execute_result"
    }
   ],
   "source": [
    "\n",
    "\n",
    "#  'disc_number': 1,\n",
    "#   'duration_ms': 438493,\n",
    "#   'explicit': False,\n",
    "#   'external_ids': {'isrc': 'USEE19901162'},\n",
    "#   'external_urls': {'spotify': 'https://open.spotify.com/track/1ko2lVN0vKGUl9zrU0qSlT'},\n",
    "#   'href': 'https://api.spotify.com/v1/tracks/1ko2lVN0vKGUl9zrU0qSlT',\n",
    "#   'id': '1ko2lVN0vKGUl9zrU0qSlT',\n",
    "#   'is_local': False,\n",
    "#   'name': 'Just the Two of Us (feat. Bill Withers)',\n",
    "#   'popularity': 77,\n",
    "#   'preview_url': 'https://p.scdn.co/mp3-preview/0b8c95f421393a3fca43687498e15ad0b1e1f4d6?cid=19cbb48ee64f4a5d925d12fa24b3ce61',\n",
    "#   'track_number': 6,\n",
    "#   'type': 'track',\n",
    "#   'uri': 'spotify:track:1ko2lVN0vKGUl9zrU0qSlT'},\n",
    "#  'currently_playing_type': 'track',\n",
    "#  'actions': {'disallows': {'pausing': True}},\n",
    "#  'is_playing': False}"
   ]
  },
  {
   "cell_type": "code",
   "execution_count": 160,
   "metadata": {},
   "outputs": [
    {
     "data": {
      "text/html": [
       "<div>\n",
       "<style scoped>\n",
       "    .dataframe tbody tr th:only-of-type {\n",
       "        vertical-align: middle;\n",
       "    }\n",
       "\n",
       "    .dataframe tbody tr th {\n",
       "        vertical-align: top;\n",
       "    }\n",
       "\n",
       "    .dataframe thead th {\n",
       "        text-align: right;\n",
       "    }\n",
       "</style>\n",
       "<table border=\"1\" class=\"dataframe\">\n",
       "  <thead>\n",
       "    <tr style=\"text-align: right;\">\n",
       "      <th></th>\n",
       "      <th>id</th>\n",
       "      <th>username</th>\n",
       "      <th>email</th>\n",
       "      <th>password</th>\n",
       "      <th>fitbit_authorized</th>\n",
       "      <th>fitbit_access_token</th>\n",
       "      <th>fitbit_refresh_token</th>\n",
       "      <th>spotify_authorized</th>\n",
       "      <th>spotify_token</th>\n",
       "      <th>spotify_refresh_token</th>\n",
       "    </tr>\n",
       "  </thead>\n",
       "  <tbody>\n",
       "    <tr>\n",
       "      <th>0</th>\n",
       "      <td>1</td>\n",
       "      <td>guest</td>\n",
       "      <td>matpar481@gmail.com</td>\n",
       "      <td>airpod21</td>\n",
       "      <td>True</td>\n",
       "      <td>eyJhbGciOiJIUzI1NiJ9.eyJhdWQiOiIyM1FWWVAiLCJzd...</td>\n",
       "      <td>74d45953842e2bb268c87bb7d27d6533231df9c4140c3b...</td>\n",
       "      <td>True</td>\n",
       "      <td>BQAE53qF9dWlOiZtHEC7X-4NMvGafgK0BqrZYVt8j_gjzu...</td>\n",
       "      <td>AQCZXJOR1tdYhPuqGCTQuAIGLHEZTQ2DSG30M_WKAVRTPL...</td>\n",
       "    </tr>\n",
       "  </tbody>\n",
       "</table>\n",
       "</div>"
      ],
      "text/plain": [
       "   id username                email  password  fitbit_authorized  \\\n",
       "0   1    guest  matpar481@gmail.com  airpod21               True   \n",
       "\n",
       "                                 fitbit_access_token  \\\n",
       "0  eyJhbGciOiJIUzI1NiJ9.eyJhdWQiOiIyM1FWWVAiLCJzd...   \n",
       "\n",
       "                                fitbit_refresh_token  spotify_authorized  \\\n",
       "0  74d45953842e2bb268c87bb7d27d6533231df9c4140c3b...                True   \n",
       "\n",
       "                                       spotify_token  \\\n",
       "0  BQAE53qF9dWlOiZtHEC7X-4NMvGafgK0BqrZYVt8j_gjzu...   \n",
       "\n",
       "                               spotify_refresh_token  \n",
       "0  AQCZXJOR1tdYhPuqGCTQuAIGLHEZTQ2DSG30M_WKAVRTPL...  "
      ]
     },
     "execution_count": 160,
     "metadata": {},
     "output_type": "execute_result"
    }
   ],
   "source": [
    "now_playing_data\n",
    "df = get_dataframe_from_query(\"SELECT * from users;\")\n",
    "df  "
   ]
  },
  {
   "cell_type": "code",
   "execution_count": 166,
   "metadata": {},
   "outputs": [],
   "source": [
    "import requests\n",
    "import json\n",
    "import sys\n",
    "import os\n",
    "from src import getSecret, isRunningInCloud, FLASK_PORT, CLOUD_URL\n",
    "\n",
    "df = get_dataframe_from_query(\"SELECT * from users;\")\n",
    "# display(df)\n",
    "\n",
    "# print(df['spotify_token'][0])\n",
    "# print(df['spotify_refresh_token'][0])\n",
    "\n",
    "# Use the Spotify Web API to get information about the currently playing track\n",
    "headers = {\n",
    "    'Authorization': 'Bearer ' + df['spotify_token'][0]\n",
    "}\n",
    "now_playing_url = 'https://api.spotify.com/v1/me/player/currently-playing'\n",
    "response = requests.get(now_playing_url, headers=headers)\n",
    "now_playing_data = response.json()\n",
    "\n",
    "timestamp = now_playing_data['timestamp']\n",
    "progress_ms = now_playing_data['progress_ms']\n",
    "album = now_playing_data['item']['album']['name']\n",
    "duration_ms = now_playing_data['item']['duration_ms']\n",
    "song = now_playing_data['item']['name']\n",
    "artist = now_playing_data['item']['artists'][0]['name']\n",
    "artist_id = now_playing_data['item']['artists'][0]['id']\n",
    "is_playing = now_playing_data['is_playing']\n",
    "song_id = now_playing_data['item']['id']\n",
    "\n",
    "class CurrentSong:\n",
    "    def __init__(self, song, song_id, artist, artist_id, timestamp, progress_ms, album, duration_ms, is_playing):\n",
    "        self.song = song\n",
    "        self.song_id = song_id\n",
    "        self.artist = artist\n",
    "        self.artist_id = artist_id\n",
    "        self.timestamp = timestamp\n",
    "        self.progress_ms = progress_ms\n",
    "        self.album = album\n",
    "        self.duration_ms = duration_ms\n",
    "        self.is_playing = is_playing\n",
    "    def __str__(self):\n",
    "        return f\"CurrentSong({self.song}, {self.song_id}, {self.artist}, {self.artist_id}, {self.timestamp}, {self.progress_ms}, {self.album}, {self.duration_ms}, {self.is_playing})\"\n",
    "        \n",
    "current_song = CurrentSong(song, song_id, artist, artist_id, timestamp, progress_ms, album, duration_ms, is_playing)\n",
    "\n",
    "df = get_dataframe_from_query(\"SELECT * from music_history;\")\n",
    "next_song_id = df['song_id'].sample().iloc[0]\n",
    "\n",
    "# Use the Spotify Web API to start playing a new track\n",
    "play_url = 'https://api.spotify.com/v1/me/player/play'\n",
    "play_params = {\n",
    "    'uris': ['spotify:track:' + next_song_id]\n",
    "}\n",
    "response = requests.put(play_url, data=json.dumps(play_params), headers=headers)\n",
    "# randomly select a song_id\n",
    "\n"
   ]
  },
  {
   "cell_type": "code",
   "execution_count": 151,
   "metadata": {},
   "outputs": [
    {
     "data": {
      "text/plain": [
       "{'error': {'status': 401, 'message': 'The access token expired'}}"
      ]
     },
     "execution_count": 151,
     "metadata": {},
     "output_type": "execute_result"
    }
   ],
   "source": [
    "df = get_dataframe_from_query(\"SELECT * from music_history;\")\n",
    "next_song_id = df['song_id'].sample().iloc[0]\n",
    "\n",
    "# Use the Spotify Web API to start playing a new track\n",
    "play_url = 'https://api.spotify.com/v1/me/player/play'\n",
    "play_params = {\n",
    "    'uris': ['spotify:track:' + next_song_id]\n",
    "}\n",
    "response = requests.put(play_url, data=json.dumps(play_params), headers=headers)"
   ]
  },
  {
   "cell_type": "code",
   "execution_count": 149,
   "metadata": {},
   "outputs": [
    {
     "name": "stdout",
     "output_type": "stream",
     "text": [
      "27gOj0x9NYYZhaNlSY4nnb\n"
     ]
    }
   ],
   "source": [
    "df = get_dataframe_from_query(\"SELECT * from music_history;\")\n",
    "# display(df)\n",
    "next_song_id = df['song_id'].sample().iloc[0]\n",
    "print(next_song_id)"
   ]
  },
  {
   "cell_type": "code",
   "execution_count": 119,
   "metadata": {},
   "outputs": [
    {
     "data": {
      "text/html": [
       "<div>\n",
       "<style scoped>\n",
       "    .dataframe tbody tr th:only-of-type {\n",
       "        vertical-align: middle;\n",
       "    }\n",
       "\n",
       "    .dataframe tbody tr th {\n",
       "        vertical-align: top;\n",
       "    }\n",
       "\n",
       "    .dataframe thead th {\n",
       "        text-align: right;\n",
       "    }\n",
       "</style>\n",
       "<table border=\"1\" class=\"dataframe\">\n",
       "  <thead>\n",
       "    <tr style=\"text-align: right;\">\n",
       "      <th></th>\n",
       "      <th>id</th>\n",
       "      <th>username</th>\n",
       "      <th>email</th>\n",
       "      <th>password</th>\n",
       "      <th>fitbit_authorized</th>\n",
       "      <th>fitbit_access_token</th>\n",
       "      <th>fitbit_refresh_token</th>\n",
       "      <th>spotify_authorized</th>\n",
       "      <th>spotify_token</th>\n",
       "      <th>spotify_refresh_token</th>\n",
       "    </tr>\n",
       "  </thead>\n",
       "  <tbody>\n",
       "    <tr>\n",
       "      <th>0</th>\n",
       "      <td>1</td>\n",
       "      <td>guest</td>\n",
       "      <td>matpar481@gmail.com</td>\n",
       "      <td>airpod21</td>\n",
       "      <td>True</td>\n",
       "      <td>eyJhbGciOiJIUzI1NiJ9.eyJhdWQiOiIyM1FWWVAiLCJzd...</td>\n",
       "      <td>74d45953842e2bb268c87bb7d27d6533231df9c4140c3b...</td>\n",
       "      <td>True</td>\n",
       "      <td>BQA150XEZapjoJWhxDKJ_ZLTHr_X4iv2ndU4Uj8yA20z-H...</td>\n",
       "      <td>AQCZXJOR1tdYhPuqGCTQuAIGLHEZTQ2DSG30M_WKAVRTPL...</td>\n",
       "    </tr>\n",
       "  </tbody>\n",
       "</table>\n",
       "</div>"
      ],
      "text/plain": [
       "   id username                email  password  fitbit_authorized  \\\n",
       "0   1    guest  matpar481@gmail.com  airpod21               True   \n",
       "\n",
       "                                 fitbit_access_token  \\\n",
       "0  eyJhbGciOiJIUzI1NiJ9.eyJhdWQiOiIyM1FWWVAiLCJzd...   \n",
       "\n",
       "                                fitbit_refresh_token  spotify_authorized  \\\n",
       "0  74d45953842e2bb268c87bb7d27d6533231df9c4140c3b...                True   \n",
       "\n",
       "                                       spotify_token  \\\n",
       "0  BQA150XEZapjoJWhxDKJ_ZLTHr_X4iv2ndU4Uj8yA20z-H...   \n",
       "\n",
       "                               spotify_refresh_token  \n",
       "0  AQCZXJOR1tdYhPuqGCTQuAIGLHEZTQ2DSG30M_WKAVRTPL...  "
      ]
     },
     "metadata": {},
     "output_type": "display_data"
    },
    {
     "name": "stdout",
     "output_type": "stream",
     "text": [
      "BQA150XEZapjoJWhxDKJ_ZLTHr_X4iv2ndU4Uj8yA20z-HX-ckL5kAfpwipfsiqGnDRx_UgCAvL2UlZ6UEOJW2fi9g-aJRKh_RmDAjdMPwOZtk0jYhua3kwj88TTxKJc5OT9U_cuWt7ayOaNhb8KKvhBsqPD7hXTea1sABmSby2i6tCmCDzCt0nrcB8Pm7CVoXDjOdY80goFFskOy18aqD6aU-GwF4QI_ha8Ezzq_58KTCVXdXEUYSZnaKZBaXZIuhCKFNl7FywR1Ak\n",
      "AQCZXJOR1tdYhPuqGCTQuAIGLHEZTQ2DSG30M_WKAVRTPLBCFAO6rpxZM22hfn8phZEtP8maGSJ8iqq3bqjJNrR8-AJpyHgSxNnmXmYr2yoVL5adVTYTbqRrKbuUIfDFcxE\n"
     ]
    }
   ],
   "source": [
    "df = get_dataframe_from_query(\"SELECT * from users;\")\n",
    "display(df)\n",
    "\n",
    "print(df['spotify_token'][0])\n",
    "print(df['spotify_refresh_token'][0])\n",
    "# conn = psycopg2.connect(\n",
    "#     host=getSecret('SQL_Host'),\n",
    "#     port=getSecret('SQL_Port'),\n",
    "#     user=getSecret('SQL_User'),\n",
    "#     password=getSecret('SQL_Password'),\n",
    "#     database=getSecret('SQL_Database')\n",
    "# )\n",
    "# cur = conn.cursor()\n",
    "# cur.execute(\"SELECT * FROM users\")\n",
    "# display(cur.fetchall())\n",
    "# # cur.execute(\"UPDATE users SET username='guest' WHERE username='mnann'\")\n",
    "# # retrive user\n",
    "# cur.execute\n",
    "\n",
    "\n",
    "# # conn.commit()\n",
    "# cur.close()\n",
    "# conn.close()\n",
    "print(df['spotify_token'][0])\n",
    "print(df['spotify_refresh_token'][0])"
   ]
  },
  {
   "cell_type": "code",
   "execution_count": 98,
   "metadata": {},
   "outputs": [],
   "source": [
    "import sys \n",
    "import os\n",
    "sys.path.append('../..')\n",
    "from src import getSecret\n",
    "from src.sql import get_dataframe_from_query, db_connection\n",
    "\n",
    "df = get_dataframe_from_query(\"SELECT music_history.*, songs.* FROM music_history JOIN songs ON music_history.song_id = songs.song_id WHERE user_id = {}\".format(1))\n",
    "temp =df['song_id'].iloc[:,0]\n",
    "df = df.drop(columns=['song_id'])\n",
    "df.insert(0, 'song_id', temp)\n",
    "# display(df)\n",
    "# df['song_id'].unique()\n",
    "\n",
    "with db_connection() as conn:\n",
    "    cur = conn.cursor()\n",
    "    cur.execute(\"delete from heart_rate where user_id = 1\")\n",
    "    conn.commit()\n"
   ]
  },
  {
   "cell_type": "code",
   "execution_count": 73,
   "metadata": {},
   "outputs": [
    {
     "name": "stdout",
     "output_type": "stream",
     "text": [
      "('users',)\n"
     ]
    },
    {
     "ename": "ProgrammingError",
     "evalue": "no results to fetch",
     "output_type": "error",
     "traceback": [
      "\u001b[0;31m---------------------------------------------------------------------------\u001b[0m",
      "\u001b[0;31mProgrammingError\u001b[0m                          Traceback (most recent call last)",
      "Cell \u001b[0;32mIn[73], line 17\u001b[0m\n\u001b[1;32m     15\u001b[0m cur\u001b[39m.\u001b[39mexecute(\u001b[39m\"\u001b[39m\u001b[39mSELECT COUNT(*) FROM users\u001b[39m\u001b[39m\"\u001b[39m)\n\u001b[1;32m     16\u001b[0m cur\u001b[39m.\u001b[39mexecute(\u001b[39m\"\u001b[39m\u001b[39mDelete from users\u001b[39m\u001b[39m\"\u001b[39m)\n\u001b[0;32m---> 17\u001b[0m count \u001b[39m=\u001b[39m cur\u001b[39m.\u001b[39;49mfetchone()[\u001b[39m0\u001b[39m]\n\u001b[1;32m     18\u001b[0m \u001b[39mprint\u001b[39m(\u001b[39m\"\u001b[39m\u001b[39mNumber of records in users table:\u001b[39m\u001b[39m\"\u001b[39m, count)\n\u001b[1;32m     20\u001b[0m \u001b[39m# # list all tables\u001b[39;00m\n\u001b[1;32m     21\u001b[0m \u001b[39m# cur.execute(\"SELECT table_name FROM information_schema.tables WHERE table_schema = 'public'\")\u001b[39;00m\n\u001b[1;32m     22\u001b[0m \u001b[39m# rows = cur.fetchall()\u001b[39;00m\n\u001b[0;32m   (...)\u001b[0m\n\u001b[1;32m     32\u001b[0m \u001b[39m# # cur.close()\u001b[39;00m\n\u001b[1;32m     33\u001b[0m \u001b[39m# # conn.close()\u001b[39;00m\n",
      "\u001b[0;31mProgrammingError\u001b[0m: no results to fetch"
     ]
    }
   ],
   "source": [
    "import psycopg2\n",
    "conn = psycopg2.connect(\n",
    "    host=getSecret('SQL_Host'),\n",
    "    port=getSecret('SQL_Port'),\n",
    "    user=getSecret('SQL_User'),\n",
    "    password=getSecret('SQL_Password'),\n",
    "    database=getSecret('SQL_Database')\n",
    ")\n",
    "cur = conn.cursor()\n",
    "cur.execute(\"SELECT table_name FROM information_schema.tables WHERE table_name = 'users';\")\n",
    "rows = cur.fetchall()\n",
    "for row in rows:\n",
    "    print(row)\n",
    "\n",
    "cur.execute(\"SELECT COUNT(*) FROM users\")\n",
    "# cur.execute(\"Delete from users\")\n",
    "count = cur.fetchone()[0]\n",
    "print(\"Number of records in users table:\", count)\n",
    "\n",
    "# # list all tables\n",
    "# cur.execute(\"SELECT table_name FROM information_schema.tables WHERE table_schema = 'public'\")\n",
    "# rows = cur.fetchall()\n",
    "# for row in rows:\n",
    "#     print(row)\n",
    "\n",
    "# # fix the query\n",
    "# cur.execute(\"SELECT * FROM users\")\n",
    "# rows = cur.fetchall()\n",
    "# for row in rows:\n",
    "#     print(row)\n",
    "\n",
    "# # cur.close()\n",
    "# # conn.close()"
   ]
  },
  {
   "cell_type": "code",
   "execution_count": 58,
   "metadata": {},
   "outputs": [],
   "source": [
    "import sys\n",
    "import os\n",
    "sys.path.append(\"..\")\n",
    "import pandas as pd\n",
    "\n",
    "df_heartRate = pd.read_pickle('data/df_heartRate_2023_04_02_to_2023_04_11.pkl')\n",
    "df_heartRate['datetime'] = pd.to_datetime(df_heartRate['date']) + pd.to_timedelta(df_heartRate['time'])\n",
    "df_heartRate.rename(columns={'value':'bpm'}, inplace=True)"
   ]
  },
  {
   "cell_type": "code",
   "execution_count": 78,
   "metadata": {},
   "outputs": [
    {
     "data": {
      "text/html": [
       "<div>\n",
       "<style scoped>\n",
       "    .dataframe tbody tr th:only-of-type {\n",
       "        vertical-align: middle;\n",
       "    }\n",
       "\n",
       "    .dataframe tbody tr th {\n",
       "        vertical-align: top;\n",
       "    }\n",
       "\n",
       "    .dataframe thead th {\n",
       "        text-align: right;\n",
       "    }\n",
       "</style>\n",
       "<table border=\"1\" class=\"dataframe\">\n",
       "  <thead>\n",
       "    <tr style=\"text-align: right;\">\n",
       "      <th></th>\n",
       "    </tr>\n",
       "  </thead>\n",
       "  <tbody>\n",
       "  </tbody>\n",
       "</table>\n",
       "</div>"
      ],
      "text/plain": [
       "Empty DataFrame\n",
       "Columns: []\n",
       "Index: []"
      ]
     },
     "metadata": {},
     "output_type": "display_data"
    }
   ],
   "source": [
    "df_heartRate\n",
    "\n",
    "import psycopg2\n",
    "\n",
    "# connect to the database\n",
    "conn = psycopg2.connect(\n",
    "    host=getSecret('SQL_Host'),\n",
    "    port=getSecret('SQL_Port'),\n",
    "    user=getSecret('SQL_User'),\n",
    "    password=getSecret('SQL_Password'),\n",
    "    database=getSecret('SQL_Database')\n",
    ")\n",
    "\n",
    "# create a cursor object\n",
    "cur = conn.cursor()\n",
    "\n",
    "\n",
    "\n",
    "# execute a query to select all rows from the \"Users\" table\n",
    "# cur.execute(\"SELECT * FROM public.Users\")\n",
    "# cur.execute(\"SELECT table_schema, table_name FROM information_schema.tables WHERE table_name = 'Users';\")\n",
    "# cur.execute(\"SET search_path TO public; SELECT * FROM Users\")\n",
    "# cur.execute('SELECT * FROM public.users;')\n",
    "\n",
    "# for index, row in df_heartRate.iterrows():\n",
    "#     cur.execute(\"INSERT INTO public.heart_rate (user_id, bpm, datetime) VALUES (%s, %s, %s)\", (1, row['bpm'], row['datetime']))\n",
    "#     conn.commit()\n",
    "\n",
    "# cur.execute('SELECT * FROM public.heart_rate;')\n",
    "# # fetch all rows and print them\n",
    "# import pandas as pd\n",
    "# df = pd.DataFrame(cur.fetchall())\n",
    "# df.columns = [desc[0] for desc in cur.description]\n",
    "# display(df)\n",
    "# cur.execute(\"SELECT music_history.*, songs.* FROM music_history JOIN songs ON music_history.song_id = songs.song_id WHERE user_id = {};\".format(1))\n",
    "cur.execute(\"SELECT * FROM public.heart_rate;\")\n",
    "# commit\n",
    "display(pd.DataFrame(cur.fetchall()))\n",
    "# for row in cur.fetchall():\n",
    "#     print(row)\n",
    "# conn.commit()\n",
    "\n",
    "# df_heartRate = pd.read_sql_query('select * from heartrate where user_id = ' + str(1), con=self.db.engine)\n",
    "# cur.execute('SELECT * FROM public.music_history;')\n",
    "# delete \n",
    "\n",
    "# cur.execute('SELECT * FROM public.heart_rate;')\n",
    "# fetch all rows and print them\n",
    "# rows = cur.fetchall()\n",
    "# for row in rows:\n",
    "#     print(row)\n",
    "\n",
    "# close the cursor and database connection\n",
    "cur.close()\n",
    "conn.close()"
   ]
  },
  {
   "cell_type": "code",
   "execution_count": null,
   "metadata": {},
   "outputs": [],
   "source": []
  },
  {
   "cell_type": "code",
   "execution_count": 27,
   "metadata": {},
   "outputs": [
    {
     "ename": "InFailedSqlTransaction",
     "evalue": "current transaction is aborted, commands ignored until end of transaction block\n",
     "output_type": "error",
     "traceback": [
      "\u001b[0;31m---------------------------------------------------------------------------\u001b[0m",
      "\u001b[0;31mInFailedSqlTransaction\u001b[0m                    Traceback (most recent call last)",
      "Cell \u001b[0;32mIn[27], line 1\u001b[0m\n\u001b[0;32m----> 1\u001b[0m cur\u001b[39m.\u001b[39;49mexecute(\u001b[39m\"\u001b[39;49m\u001b[39mSELECT table_name FROM information_schema.tables WHERE table_name = \u001b[39;49m\u001b[39m'\u001b[39;49m\u001b[39musers\u001b[39;49m\u001b[39m'\u001b[39;49m\u001b[39m;\u001b[39;49m\u001b[39m\"\u001b[39;49m)\n\u001b[1;32m      2\u001b[0m rows \u001b[39m=\u001b[39m cur\u001b[39m.\u001b[39mfetchall()\n",
      "\u001b[0;31mInFailedSqlTransaction\u001b[0m: current transaction is aborted, commands ignored until end of transaction block\n"
     ]
    }
   ],
   "source": [
    "cur.execute(\"SELECT table_name FROM information_schema.tables WHERE table_name = 'users';\")\n",
    "rows = cur.fetchall()"
   ]
  },
  {
   "cell_type": "code",
   "execution_count": 21,
   "metadata": {},
   "outputs": [],
   "source": [
    "import os\n",
    "from src import getSecret, isRunningInCloud\n",
    "# Grabs the folder where the script runs.\n",
    "\n",
    "DEBUG = True\n",
    "# Secret key for session management. You can generate random strings here: https://randomkeygen.com/\n",
    "SECRET_KEY = \"o'lEd~n48G[3&@XVF2*]u1`VPF7P%I%,:OA@wuI`.5|%$4neB>h{q=S1N<R5AKL\"\n",
    "\n",
    "if isRunningInCloud():\n",
    "    SQLALCHEMY_DATABASE_URI = os.environ['DATABASE_URL']\n",
    "else:\n",
    "    SQL_username = str(getSecret('SQL_User'))\n",
    "    SQL_password = str(getSecret('SQL_Password'))\n",
    "    SQL_host = str(getSecret('SQL_Host'))\n",
    "    SQL_port = str(getSecret('SQL_Port'))\n",
    "    SQL_database = str(getSecret('SQL_Database'))\n",
    "    # Connect to the database\n",
    "    SQLALCHEMY_DATABASE_URI = 'postgresql://' + SQL_username + ':' + SQL_password + '@' + SQL_host + ':' + SQL_port + '/' + SQL_database\n",
    "    # 'sqlite:///' + os.path.join(basedir, 'database.db')\n",
    "\n",
    "    # # Secret key for session management. You can generate random strings here:\n",
    "    # # https://randomkeygen.com/\n",
    "    # SECRET_KEY = \"o'lEd~n48G[3&@XVF2*]u1`VPF7P%I%,:OA@wuI`.5|%$4neB>h{q=S1N<R5AKL\"\n",
    "    # # Connect to the database\n",
    "    # SQLALCHEMY_DATABASE_URI = 'sqlite:///' + os.path.join(basedir, 'database.db')\n"
   ]
  },
  {
   "cell_type": "code",
   "execution_count": 175,
   "metadata": {},
   "outputs": [],
   "source": [
    "df = get_dataframe_from_query(\"SELECT * from songs;\")\n",
    "next_song_id = df['song_id'].sample().iloc[0]\n",
    "\n",
    "# Use the Spotify Web API to start playing a new track\n",
    "play_url = 'https://api.spotify.com/v1/me/player/play'\n",
    "play_params = {\n",
    "    'uris': ['spotify:track:' + next_song_id]\n",
    "}\n",
    "response = requests.put(play_url, data=json.dumps(play_params), headers=headers)"
   ]
  }
 ],
 "metadata": {
  "kernelspec": {
   "display_name": "venv",
   "language": "python",
   "name": "python3"
  },
  "language_info": {
   "codemirror_mode": {
    "name": "ipython",
    "version": 3
   },
   "file_extension": ".py",
   "mimetype": "text/x-python",
   "name": "python",
   "nbconvert_exporter": "python",
   "pygments_lexer": "ipython3",
   "version": "3.8.13"
  },
  "orig_nbformat": 4
 },
 "nbformat": 4,
 "nbformat_minor": 2
}
